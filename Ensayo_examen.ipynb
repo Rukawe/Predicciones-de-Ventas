{
  "nbformat": 4,
  "nbformat_minor": 0,
  "metadata": {
    "colab": {
      "provenance": [],
      "authorship_tag": "ABX9TyNtXHkzQi7RMybc+hCBUWSr",
      "include_colab_link": true
    },
    "kernelspec": {
      "name": "python3",
      "display_name": "Python 3"
    },
    "language_info": {
      "name": "python"
    }
  },
  "cells": [
    {
      "cell_type": "markdown",
      "metadata": {
        "id": "view-in-github",
        "colab_type": "text"
      },
      "source": [
        "<a href=\"https://colab.research.google.com/github/Rukawe/Predicciones-de-Ventas/blob/main/Ensayo_examen.ipynb\" target=\"_parent\"><img src=\"https://colab.research.google.com/assets/colab-badge.svg\" alt=\"Open In Colab\"/></a>"
      ]
    },
    {
      "cell_type": "code",
      "execution_count": 163,
      "metadata": {
        "id": "9HUB-BFTR-jj"
      },
      "outputs": [],
      "source": [
        "import pandas as pd\n",
        "import matplotlib.pyplot as plt\n",
        "import numpy as np\n",
        "import seaborn as sns"
      ]
    },
    {
      "cell_type": "code",
      "source": [
        "filename = '/content/literacy_rates.csv'\n",
        "df = pd.read_csv(filename)"
      ],
      "metadata": {
        "id": "rmK0XVWrSN80"
      },
      "execution_count": 164,
      "outputs": []
    },
    {
      "cell_type": "code",
      "source": [
        "df.head(50)"
      ],
      "metadata": {
        "colab": {
          "base_uri": "https://localhost:8080/",
          "height": 1000
        },
        "id": "PwZz2FWZSgHz",
        "outputId": "a39d3999-a4f3-497f-b675-84c00c9e1748"
      },
      "execution_count": 189,
      "outputs": [
        {
          "output_type": "execute_result",
          "data": {
            "text/plain": [
              "                       Region      Country  Year    Age  Gender  Literacy rate\n",
              "0   Central and Southern Asia  Afghanistan  2011    15+  female       0.176121\n",
              "1   Central and Southern Asia  Afghanistan  2011    15+    male       0.454171\n",
              "2   Central and Southern Asia  Afghanistan  2011    15+   total       0.317411\n",
              "3   Central and Southern Asia  Afghanistan  2011  15-24  female       0.321132\n",
              "4   Central and Southern Asia  Afghanistan  2011  15-24    male       0.618791\n",
              "5   Central and Southern Asia  Afghanistan  2011  15-24   total       0.469900\n",
              "6   Central and Southern Asia  Afghanistan  2011  25-64  female       0.084128\n",
              "7   Central and Southern Asia  Afghanistan  2011  25-64    male       0.377948\n",
              "8   Central and Southern Asia  Afghanistan  2011  25-64   total       0.231536\n",
              "9   Central and Southern Asia  Afghanistan  2011    65+  female       0.196705\n",
              "10  Central and Southern Asia  Afghanistan  2011    65+   total       0.203219\n",
              "11  Central and Southern Asia  Afghanistan  2018    15+  female       0.298052\n",
              "12  Central and Southern Asia  Afghanistan  2018    15+    male       0.554755\n",
              "13  Central and Southern Asia  Afghanistan  2018    15+   total       0.430197\n",
              "14  Central and Southern Asia  Afghanistan  2018  15-24  female       0.562547\n",
              "15  Central and Southern Asia  Afghanistan  2018  15-24    male       0.740848\n",
              "16  Central and Southern Asia  Afghanistan  2018  15-24   total       0.654206\n",
              "17  Central and Southern Asia  Afghanistan  2018  25-64  female       0.143314\n",
              "18  Central and Southern Asia  Afghanistan  2018  25-64    male       0.453840\n",
              "19  Central and Southern Asia  Afghanistan  2018  25-64   total       0.304579\n",
              "20  Central and Southern Asia  Afghanistan  2018    65+  female       0.034743\n",
              "21  Central and Southern Asia  Afghanistan  2018    65+    male       0.247450\n",
              "22  Central and Southern Asia  Afghanistan  2018    65+   total       0.133318\n",
              "23  Central and Southern Asia   Bangladesh  2011    15+  female       0.551194\n",
              "24  Central and Southern Asia   Bangladesh  2011    15+    male       0.624831\n",
              "25  Central and Southern Asia   Bangladesh  2011    15+   total       0.587692\n",
              "26  Central and Southern Asia   Bangladesh  2011  15-24  female       0.795445\n",
              "27  Central and Southern Asia   Bangladesh  2011  15-24    male       0.764034\n",
              "28  Central and Southern Asia   Bangladesh  2011  15-24   total       0.779850\n",
              "29  Central and Southern Asia   Bangladesh  2011  25-64  female       0.480653\n",
              "30  Central and Southern Asia   Bangladesh  2011  25-64    male       0.585419\n",
              "31  Central and Southern Asia   Bangladesh  2011  25-64   total       0.532388\n",
              "32  Central and Southern Asia   Bangladesh  2011    65+  female       0.184306\n",
              "33  Central and Southern Asia   Bangladesh  2011    65+    male       0.415052\n",
              "34  Central and Southern Asia   Bangladesh  2011    65+   total       0.301912\n",
              "35  Central and Southern Asia   Bangladesh  2012    15+  female       0.542360\n",
              "36  Central and Southern Asia   Bangladesh  2012    15+    male       0.615429\n",
              "37  Central and Southern Asia   Bangladesh  2012    15+   total       0.578608\n",
              "38  Central and Southern Asia   Bangladesh  2012  15-24  female       0.793692\n",
              "39  Central and Southern Asia   Bangladesh  2012  15-24    male       0.762763\n",
              "40  Central and Southern Asia   Bangladesh  2012  15-24   total       0.778329\n",
              "41  Central and Southern Asia   Bangladesh  2012  25-64  female       0.472205\n",
              "42  Central and Southern Asia   Bangladesh  2012  25-64    male       0.574101\n",
              "43  Central and Southern Asia   Bangladesh  2012  25-64   total       0.522514\n",
              "44  Central and Southern Asia   Bangladesh  2012    65+  female       0.140803\n",
              "45  Central and Southern Asia   Bangladesh  2012    65+    male       0.394734\n",
              "46  Central and Southern Asia   Bangladesh  2012    65+   total       0.271811\n",
              "47  Central and Southern Asia   Bangladesh  2013    15+  female       0.577890\n",
              "48  Central and Southern Asia   Bangladesh  2013    15+    male       0.642138\n",
              "49  Central and Southern Asia   Bangladesh  2013    15+   total       0.610155"
            ],
            "text/html": [
              "\n",
              "  <div id=\"df-8e01338b-e4c6-42ce-be0e-1e26b92775f9\">\n",
              "    <div class=\"colab-df-container\">\n",
              "      <div>\n",
              "<style scoped>\n",
              "    .dataframe tbody tr th:only-of-type {\n",
              "        vertical-align: middle;\n",
              "    }\n",
              "\n",
              "    .dataframe tbody tr th {\n",
              "        vertical-align: top;\n",
              "    }\n",
              "\n",
              "    .dataframe thead th {\n",
              "        text-align: right;\n",
              "    }\n",
              "</style>\n",
              "<table border=\"1\" class=\"dataframe\">\n",
              "  <thead>\n",
              "    <tr style=\"text-align: right;\">\n",
              "      <th></th>\n",
              "      <th>Region</th>\n",
              "      <th>Country</th>\n",
              "      <th>Year</th>\n",
              "      <th>Age</th>\n",
              "      <th>Gender</th>\n",
              "      <th>Literacy rate</th>\n",
              "    </tr>\n",
              "  </thead>\n",
              "  <tbody>\n",
              "    <tr>\n",
              "      <th>0</th>\n",
              "      <td>Central and Southern Asia</td>\n",
              "      <td>Afghanistan</td>\n",
              "      <td>2011</td>\n",
              "      <td>15+</td>\n",
              "      <td>female</td>\n",
              "      <td>0.176121</td>\n",
              "    </tr>\n",
              "    <tr>\n",
              "      <th>1</th>\n",
              "      <td>Central and Southern Asia</td>\n",
              "      <td>Afghanistan</td>\n",
              "      <td>2011</td>\n",
              "      <td>15+</td>\n",
              "      <td>male</td>\n",
              "      <td>0.454171</td>\n",
              "    </tr>\n",
              "    <tr>\n",
              "      <th>2</th>\n",
              "      <td>Central and Southern Asia</td>\n",
              "      <td>Afghanistan</td>\n",
              "      <td>2011</td>\n",
              "      <td>15+</td>\n",
              "      <td>total</td>\n",
              "      <td>0.317411</td>\n",
              "    </tr>\n",
              "    <tr>\n",
              "      <th>3</th>\n",
              "      <td>Central and Southern Asia</td>\n",
              "      <td>Afghanistan</td>\n",
              "      <td>2011</td>\n",
              "      <td>15-24</td>\n",
              "      <td>female</td>\n",
              "      <td>0.321132</td>\n",
              "    </tr>\n",
              "    <tr>\n",
              "      <th>4</th>\n",
              "      <td>Central and Southern Asia</td>\n",
              "      <td>Afghanistan</td>\n",
              "      <td>2011</td>\n",
              "      <td>15-24</td>\n",
              "      <td>male</td>\n",
              "      <td>0.618791</td>\n",
              "    </tr>\n",
              "    <tr>\n",
              "      <th>5</th>\n",
              "      <td>Central and Southern Asia</td>\n",
              "      <td>Afghanistan</td>\n",
              "      <td>2011</td>\n",
              "      <td>15-24</td>\n",
              "      <td>total</td>\n",
              "      <td>0.469900</td>\n",
              "    </tr>\n",
              "    <tr>\n",
              "      <th>6</th>\n",
              "      <td>Central and Southern Asia</td>\n",
              "      <td>Afghanistan</td>\n",
              "      <td>2011</td>\n",
              "      <td>25-64</td>\n",
              "      <td>female</td>\n",
              "      <td>0.084128</td>\n",
              "    </tr>\n",
              "    <tr>\n",
              "      <th>7</th>\n",
              "      <td>Central and Southern Asia</td>\n",
              "      <td>Afghanistan</td>\n",
              "      <td>2011</td>\n",
              "      <td>25-64</td>\n",
              "      <td>male</td>\n",
              "      <td>0.377948</td>\n",
              "    </tr>\n",
              "    <tr>\n",
              "      <th>8</th>\n",
              "      <td>Central and Southern Asia</td>\n",
              "      <td>Afghanistan</td>\n",
              "      <td>2011</td>\n",
              "      <td>25-64</td>\n",
              "      <td>total</td>\n",
              "      <td>0.231536</td>\n",
              "    </tr>\n",
              "    <tr>\n",
              "      <th>9</th>\n",
              "      <td>Central and Southern Asia</td>\n",
              "      <td>Afghanistan</td>\n",
              "      <td>2011</td>\n",
              "      <td>65+</td>\n",
              "      <td>female</td>\n",
              "      <td>0.196705</td>\n",
              "    </tr>\n",
              "    <tr>\n",
              "      <th>10</th>\n",
              "      <td>Central and Southern Asia</td>\n",
              "      <td>Afghanistan</td>\n",
              "      <td>2011</td>\n",
              "      <td>65+</td>\n",
              "      <td>total</td>\n",
              "      <td>0.203219</td>\n",
              "    </tr>\n",
              "    <tr>\n",
              "      <th>11</th>\n",
              "      <td>Central and Southern Asia</td>\n",
              "      <td>Afghanistan</td>\n",
              "      <td>2018</td>\n",
              "      <td>15+</td>\n",
              "      <td>female</td>\n",
              "      <td>0.298052</td>\n",
              "    </tr>\n",
              "    <tr>\n",
              "      <th>12</th>\n",
              "      <td>Central and Southern Asia</td>\n",
              "      <td>Afghanistan</td>\n",
              "      <td>2018</td>\n",
              "      <td>15+</td>\n",
              "      <td>male</td>\n",
              "      <td>0.554755</td>\n",
              "    </tr>\n",
              "    <tr>\n",
              "      <th>13</th>\n",
              "      <td>Central and Southern Asia</td>\n",
              "      <td>Afghanistan</td>\n",
              "      <td>2018</td>\n",
              "      <td>15+</td>\n",
              "      <td>total</td>\n",
              "      <td>0.430197</td>\n",
              "    </tr>\n",
              "    <tr>\n",
              "      <th>14</th>\n",
              "      <td>Central and Southern Asia</td>\n",
              "      <td>Afghanistan</td>\n",
              "      <td>2018</td>\n",
              "      <td>15-24</td>\n",
              "      <td>female</td>\n",
              "      <td>0.562547</td>\n",
              "    </tr>\n",
              "    <tr>\n",
              "      <th>15</th>\n",
              "      <td>Central and Southern Asia</td>\n",
              "      <td>Afghanistan</td>\n",
              "      <td>2018</td>\n",
              "      <td>15-24</td>\n",
              "      <td>male</td>\n",
              "      <td>0.740848</td>\n",
              "    </tr>\n",
              "    <tr>\n",
              "      <th>16</th>\n",
              "      <td>Central and Southern Asia</td>\n",
              "      <td>Afghanistan</td>\n",
              "      <td>2018</td>\n",
              "      <td>15-24</td>\n",
              "      <td>total</td>\n",
              "      <td>0.654206</td>\n",
              "    </tr>\n",
              "    <tr>\n",
              "      <th>17</th>\n",
              "      <td>Central and Southern Asia</td>\n",
              "      <td>Afghanistan</td>\n",
              "      <td>2018</td>\n",
              "      <td>25-64</td>\n",
              "      <td>female</td>\n",
              "      <td>0.143314</td>\n",
              "    </tr>\n",
              "    <tr>\n",
              "      <th>18</th>\n",
              "      <td>Central and Southern Asia</td>\n",
              "      <td>Afghanistan</td>\n",
              "      <td>2018</td>\n",
              "      <td>25-64</td>\n",
              "      <td>male</td>\n",
              "      <td>0.453840</td>\n",
              "    </tr>\n",
              "    <tr>\n",
              "      <th>19</th>\n",
              "      <td>Central and Southern Asia</td>\n",
              "      <td>Afghanistan</td>\n",
              "      <td>2018</td>\n",
              "      <td>25-64</td>\n",
              "      <td>total</td>\n",
              "      <td>0.304579</td>\n",
              "    </tr>\n",
              "    <tr>\n",
              "      <th>20</th>\n",
              "      <td>Central and Southern Asia</td>\n",
              "      <td>Afghanistan</td>\n",
              "      <td>2018</td>\n",
              "      <td>65+</td>\n",
              "      <td>female</td>\n",
              "      <td>0.034743</td>\n",
              "    </tr>\n",
              "    <tr>\n",
              "      <th>21</th>\n",
              "      <td>Central and Southern Asia</td>\n",
              "      <td>Afghanistan</td>\n",
              "      <td>2018</td>\n",
              "      <td>65+</td>\n",
              "      <td>male</td>\n",
              "      <td>0.247450</td>\n",
              "    </tr>\n",
              "    <tr>\n",
              "      <th>22</th>\n",
              "      <td>Central and Southern Asia</td>\n",
              "      <td>Afghanistan</td>\n",
              "      <td>2018</td>\n",
              "      <td>65+</td>\n",
              "      <td>total</td>\n",
              "      <td>0.133318</td>\n",
              "    </tr>\n",
              "    <tr>\n",
              "      <th>23</th>\n",
              "      <td>Central and Southern Asia</td>\n",
              "      <td>Bangladesh</td>\n",
              "      <td>2011</td>\n",
              "      <td>15+</td>\n",
              "      <td>female</td>\n",
              "      <td>0.551194</td>\n",
              "    </tr>\n",
              "    <tr>\n",
              "      <th>24</th>\n",
              "      <td>Central and Southern Asia</td>\n",
              "      <td>Bangladesh</td>\n",
              "      <td>2011</td>\n",
              "      <td>15+</td>\n",
              "      <td>male</td>\n",
              "      <td>0.624831</td>\n",
              "    </tr>\n",
              "    <tr>\n",
              "      <th>25</th>\n",
              "      <td>Central and Southern Asia</td>\n",
              "      <td>Bangladesh</td>\n",
              "      <td>2011</td>\n",
              "      <td>15+</td>\n",
              "      <td>total</td>\n",
              "      <td>0.587692</td>\n",
              "    </tr>\n",
              "    <tr>\n",
              "      <th>26</th>\n",
              "      <td>Central and Southern Asia</td>\n",
              "      <td>Bangladesh</td>\n",
              "      <td>2011</td>\n",
              "      <td>15-24</td>\n",
              "      <td>female</td>\n",
              "      <td>0.795445</td>\n",
              "    </tr>\n",
              "    <tr>\n",
              "      <th>27</th>\n",
              "      <td>Central and Southern Asia</td>\n",
              "      <td>Bangladesh</td>\n",
              "      <td>2011</td>\n",
              "      <td>15-24</td>\n",
              "      <td>male</td>\n",
              "      <td>0.764034</td>\n",
              "    </tr>\n",
              "    <tr>\n",
              "      <th>28</th>\n",
              "      <td>Central and Southern Asia</td>\n",
              "      <td>Bangladesh</td>\n",
              "      <td>2011</td>\n",
              "      <td>15-24</td>\n",
              "      <td>total</td>\n",
              "      <td>0.779850</td>\n",
              "    </tr>\n",
              "    <tr>\n",
              "      <th>29</th>\n",
              "      <td>Central and Southern Asia</td>\n",
              "      <td>Bangladesh</td>\n",
              "      <td>2011</td>\n",
              "      <td>25-64</td>\n",
              "      <td>female</td>\n",
              "      <td>0.480653</td>\n",
              "    </tr>\n",
              "    <tr>\n",
              "      <th>30</th>\n",
              "      <td>Central and Southern Asia</td>\n",
              "      <td>Bangladesh</td>\n",
              "      <td>2011</td>\n",
              "      <td>25-64</td>\n",
              "      <td>male</td>\n",
              "      <td>0.585419</td>\n",
              "    </tr>\n",
              "    <tr>\n",
              "      <th>31</th>\n",
              "      <td>Central and Southern Asia</td>\n",
              "      <td>Bangladesh</td>\n",
              "      <td>2011</td>\n",
              "      <td>25-64</td>\n",
              "      <td>total</td>\n",
              "      <td>0.532388</td>\n",
              "    </tr>\n",
              "    <tr>\n",
              "      <th>32</th>\n",
              "      <td>Central and Southern Asia</td>\n",
              "      <td>Bangladesh</td>\n",
              "      <td>2011</td>\n",
              "      <td>65+</td>\n",
              "      <td>female</td>\n",
              "      <td>0.184306</td>\n",
              "    </tr>\n",
              "    <tr>\n",
              "      <th>33</th>\n",
              "      <td>Central and Southern Asia</td>\n",
              "      <td>Bangladesh</td>\n",
              "      <td>2011</td>\n",
              "      <td>65+</td>\n",
              "      <td>male</td>\n",
              "      <td>0.415052</td>\n",
              "    </tr>\n",
              "    <tr>\n",
              "      <th>34</th>\n",
              "      <td>Central and Southern Asia</td>\n",
              "      <td>Bangladesh</td>\n",
              "      <td>2011</td>\n",
              "      <td>65+</td>\n",
              "      <td>total</td>\n",
              "      <td>0.301912</td>\n",
              "    </tr>\n",
              "    <tr>\n",
              "      <th>35</th>\n",
              "      <td>Central and Southern Asia</td>\n",
              "      <td>Bangladesh</td>\n",
              "      <td>2012</td>\n",
              "      <td>15+</td>\n",
              "      <td>female</td>\n",
              "      <td>0.542360</td>\n",
              "    </tr>\n",
              "    <tr>\n",
              "      <th>36</th>\n",
              "      <td>Central and Southern Asia</td>\n",
              "      <td>Bangladesh</td>\n",
              "      <td>2012</td>\n",
              "      <td>15+</td>\n",
              "      <td>male</td>\n",
              "      <td>0.615429</td>\n",
              "    </tr>\n",
              "    <tr>\n",
              "      <th>37</th>\n",
              "      <td>Central and Southern Asia</td>\n",
              "      <td>Bangladesh</td>\n",
              "      <td>2012</td>\n",
              "      <td>15+</td>\n",
              "      <td>total</td>\n",
              "      <td>0.578608</td>\n",
              "    </tr>\n",
              "    <tr>\n",
              "      <th>38</th>\n",
              "      <td>Central and Southern Asia</td>\n",
              "      <td>Bangladesh</td>\n",
              "      <td>2012</td>\n",
              "      <td>15-24</td>\n",
              "      <td>female</td>\n",
              "      <td>0.793692</td>\n",
              "    </tr>\n",
              "    <tr>\n",
              "      <th>39</th>\n",
              "      <td>Central and Southern Asia</td>\n",
              "      <td>Bangladesh</td>\n",
              "      <td>2012</td>\n",
              "      <td>15-24</td>\n",
              "      <td>male</td>\n",
              "      <td>0.762763</td>\n",
              "    </tr>\n",
              "    <tr>\n",
              "      <th>40</th>\n",
              "      <td>Central and Southern Asia</td>\n",
              "      <td>Bangladesh</td>\n",
              "      <td>2012</td>\n",
              "      <td>15-24</td>\n",
              "      <td>total</td>\n",
              "      <td>0.778329</td>\n",
              "    </tr>\n",
              "    <tr>\n",
              "      <th>41</th>\n",
              "      <td>Central and Southern Asia</td>\n",
              "      <td>Bangladesh</td>\n",
              "      <td>2012</td>\n",
              "      <td>25-64</td>\n",
              "      <td>female</td>\n",
              "      <td>0.472205</td>\n",
              "    </tr>\n",
              "    <tr>\n",
              "      <th>42</th>\n",
              "      <td>Central and Southern Asia</td>\n",
              "      <td>Bangladesh</td>\n",
              "      <td>2012</td>\n",
              "      <td>25-64</td>\n",
              "      <td>male</td>\n",
              "      <td>0.574101</td>\n",
              "    </tr>\n",
              "    <tr>\n",
              "      <th>43</th>\n",
              "      <td>Central and Southern Asia</td>\n",
              "      <td>Bangladesh</td>\n",
              "      <td>2012</td>\n",
              "      <td>25-64</td>\n",
              "      <td>total</td>\n",
              "      <td>0.522514</td>\n",
              "    </tr>\n",
              "    <tr>\n",
              "      <th>44</th>\n",
              "      <td>Central and Southern Asia</td>\n",
              "      <td>Bangladesh</td>\n",
              "      <td>2012</td>\n",
              "      <td>65+</td>\n",
              "      <td>female</td>\n",
              "      <td>0.140803</td>\n",
              "    </tr>\n",
              "    <tr>\n",
              "      <th>45</th>\n",
              "      <td>Central and Southern Asia</td>\n",
              "      <td>Bangladesh</td>\n",
              "      <td>2012</td>\n",
              "      <td>65+</td>\n",
              "      <td>male</td>\n",
              "      <td>0.394734</td>\n",
              "    </tr>\n",
              "    <tr>\n",
              "      <th>46</th>\n",
              "      <td>Central and Southern Asia</td>\n",
              "      <td>Bangladesh</td>\n",
              "      <td>2012</td>\n",
              "      <td>65+</td>\n",
              "      <td>total</td>\n",
              "      <td>0.271811</td>\n",
              "    </tr>\n",
              "    <tr>\n",
              "      <th>47</th>\n",
              "      <td>Central and Southern Asia</td>\n",
              "      <td>Bangladesh</td>\n",
              "      <td>2013</td>\n",
              "      <td>15+</td>\n",
              "      <td>female</td>\n",
              "      <td>0.577890</td>\n",
              "    </tr>\n",
              "    <tr>\n",
              "      <th>48</th>\n",
              "      <td>Central and Southern Asia</td>\n",
              "      <td>Bangladesh</td>\n",
              "      <td>2013</td>\n",
              "      <td>15+</td>\n",
              "      <td>male</td>\n",
              "      <td>0.642138</td>\n",
              "    </tr>\n",
              "    <tr>\n",
              "      <th>49</th>\n",
              "      <td>Central and Southern Asia</td>\n",
              "      <td>Bangladesh</td>\n",
              "      <td>2013</td>\n",
              "      <td>15+</td>\n",
              "      <td>total</td>\n",
              "      <td>0.610155</td>\n",
              "    </tr>\n",
              "  </tbody>\n",
              "</table>\n",
              "</div>\n",
              "      <button class=\"colab-df-convert\" onclick=\"convertToInteractive('df-8e01338b-e4c6-42ce-be0e-1e26b92775f9')\"\n",
              "              title=\"Convert this dataframe to an interactive table.\"\n",
              "              style=\"display:none;\">\n",
              "        \n",
              "  <svg xmlns=\"http://www.w3.org/2000/svg\" height=\"24px\"viewBox=\"0 0 24 24\"\n",
              "       width=\"24px\">\n",
              "    <path d=\"M0 0h24v24H0V0z\" fill=\"none\"/>\n",
              "    <path d=\"M18.56 5.44l.94 2.06.94-2.06 2.06-.94-2.06-.94-.94-2.06-.94 2.06-2.06.94zm-11 1L8.5 8.5l.94-2.06 2.06-.94-2.06-.94L8.5 2.5l-.94 2.06-2.06.94zm10 10l.94 2.06.94-2.06 2.06-.94-2.06-.94-.94-2.06-.94 2.06-2.06.94z\"/><path d=\"M17.41 7.96l-1.37-1.37c-.4-.4-.92-.59-1.43-.59-.52 0-1.04.2-1.43.59L10.3 9.45l-7.72 7.72c-.78.78-.78 2.05 0 2.83L4 21.41c.39.39.9.59 1.41.59.51 0 1.02-.2 1.41-.59l7.78-7.78 2.81-2.81c.8-.78.8-2.07 0-2.86zM5.41 20L4 18.59l7.72-7.72 1.47 1.35L5.41 20z\"/>\n",
              "  </svg>\n",
              "      </button>\n",
              "      \n",
              "  <style>\n",
              "    .colab-df-container {\n",
              "      display:flex;\n",
              "      flex-wrap:wrap;\n",
              "      gap: 12px;\n",
              "    }\n",
              "\n",
              "    .colab-df-convert {\n",
              "      background-color: #E8F0FE;\n",
              "      border: none;\n",
              "      border-radius: 50%;\n",
              "      cursor: pointer;\n",
              "      display: none;\n",
              "      fill: #1967D2;\n",
              "      height: 32px;\n",
              "      padding: 0 0 0 0;\n",
              "      width: 32px;\n",
              "    }\n",
              "\n",
              "    .colab-df-convert:hover {\n",
              "      background-color: #E2EBFA;\n",
              "      box-shadow: 0px 1px 2px rgba(60, 64, 67, 0.3), 0px 1px 3px 1px rgba(60, 64, 67, 0.15);\n",
              "      fill: #174EA6;\n",
              "    }\n",
              "\n",
              "    [theme=dark] .colab-df-convert {\n",
              "      background-color: #3B4455;\n",
              "      fill: #D2E3FC;\n",
              "    }\n",
              "\n",
              "    [theme=dark] .colab-df-convert:hover {\n",
              "      background-color: #434B5C;\n",
              "      box-shadow: 0px 1px 3px 1px rgba(0, 0, 0, 0.15);\n",
              "      filter: drop-shadow(0px 1px 2px rgba(0, 0, 0, 0.3));\n",
              "      fill: #FFFFFF;\n",
              "    }\n",
              "  </style>\n",
              "\n",
              "      <script>\n",
              "        const buttonEl =\n",
              "          document.querySelector('#df-8e01338b-e4c6-42ce-be0e-1e26b92775f9 button.colab-df-convert');\n",
              "        buttonEl.style.display =\n",
              "          google.colab.kernel.accessAllowed ? 'block' : 'none';\n",
              "\n",
              "        async function convertToInteractive(key) {\n",
              "          const element = document.querySelector('#df-8e01338b-e4c6-42ce-be0e-1e26b92775f9');\n",
              "          const dataTable =\n",
              "            await google.colab.kernel.invokeFunction('convertToInteractive',\n",
              "                                                     [key], {});\n",
              "          if (!dataTable) return;\n",
              "\n",
              "          const docLinkHtml = 'Like what you see? Visit the ' +\n",
              "            '<a target=\"_blank\" href=https://colab.research.google.com/notebooks/data_table.ipynb>data table notebook</a>'\n",
              "            + ' to learn more about interactive tables.';\n",
              "          element.innerHTML = '';\n",
              "          dataTable['output_type'] = 'display_data';\n",
              "          await google.colab.output.renderOutput(dataTable, element);\n",
              "          const docLink = document.createElement('div');\n",
              "          docLink.innerHTML = docLinkHtml;\n",
              "          element.appendChild(docLink);\n",
              "        }\n",
              "      </script>\n",
              "    </div>\n",
              "  </div>\n",
              "  "
            ]
          },
          "metadata": {},
          "execution_count": 189
        }
      ]
    },
    {
      "cell_type": "code",
      "source": [
        "df.shape"
      ],
      "metadata": {
        "colab": {
          "base_uri": "https://localhost:8080/"
        },
        "id": "3-20PF5bSkGu",
        "outputId": "24cd4533-4c8f-467f-cfec-6df130b02658"
      },
      "execution_count": 190,
      "outputs": [
        {
          "output_type": "execute_result",
          "data": {
            "text/plain": [
              "(4955, 6)"
            ]
          },
          "metadata": {},
          "execution_count": 190
        }
      ]
    },
    {
      "cell_type": "code",
      "source": [
        "df.value_counts()"
      ],
      "metadata": {
        "colab": {
          "base_uri": "https://localhost:8080/"
        },
        "id": "9kuSHiroS-XA",
        "outputId": "a1b00d83-585b-4c6f-e236-cbfd239b5e14"
      },
      "execution_count": 191,
      "outputs": [
        {
          "output_type": "execute_result",
          "data": {
            "text/plain": [
              "Region                            Country      Year  Age    Gender  Literacy rate\n",
              "Central and Southern Asia         Afghanistan  2011  15+    female  0.176121         1\n",
              "Northern Africa and Western Asia  Oman         2016  15-24  total   0.987036         1\n",
              "                                               2017  15+    female  0.922256         1\n",
              "                                               2016  65+    total   0.418608         1\n",
              "                                                            male    0.434718         1\n",
              "                                                                                    ..\n",
              "Latin America and the Caribbean   Brazil       2016  65+    male    0.773319         1\n",
              "                                                            female  0.760023         1\n",
              "                                                     25-64  total   0.939201         1\n",
              "                                                            male    0.931156         1\n",
              "Sub-Saharan Africa                Zimbabwe     2014  65+    total   0.811269         1\n",
              "Length: 4955, dtype: int64"
            ]
          },
          "metadata": {},
          "execution_count": 191
        }
      ]
    },
    {
      "cell_type": "code",
      "source": [
        "df.duplicated().sum() # No existen valores duplicados "
      ],
      "metadata": {
        "colab": {
          "base_uri": "https://localhost:8080/"
        },
        "id": "4OCNQ9A9TBWd",
        "outputId": "cdbff1d6-e25e-4761-88de-309875ac76e3"
      },
      "execution_count": 192,
      "outputs": [
        {
          "output_type": "execute_result",
          "data": {
            "text/plain": [
              "0"
            ]
          },
          "metadata": {},
          "execution_count": 192
        }
      ]
    },
    {
      "cell_type": "code",
      "source": [
        "df.isna().sum() # Tenemos 5 valores que faltan, y están en la columna región. Habrá una relación directa de la región y el pais."
      ],
      "metadata": {
        "colab": {
          "base_uri": "https://localhost:8080/"
        },
        "id": "zD3tMve1TsjR",
        "outputId": "7c61daff-b82e-441d-8dbf-0c635086da25"
      },
      "execution_count": 193,
      "outputs": [
        {
          "output_type": "execute_result",
          "data": {
            "text/plain": [
              "Region           0\n",
              "Country          0\n",
              "Year             0\n",
              "Age              0\n",
              "Gender           0\n",
              "Literacy rate    0\n",
              "dtype: int64"
            ]
          },
          "metadata": {},
          "execution_count": 193
        }
      ]
    },
    {
      "cell_type": "code",
      "source": [
        "region_perdido = df['Region'].isna()"
      ],
      "metadata": {
        "id": "EQToeFSlUWdk"
      },
      "execution_count": 194,
      "outputs": []
    },
    {
      "cell_type": "code",
      "source": [
        "df.loc[region_perdido, :] "
      ],
      "metadata": {
        "colab": {
          "base_uri": "https://localhost:8080/",
          "height": 49
        },
        "id": "4siZLhMsY0pe",
        "outputId": "2d25948b-b97d-483a-9d8c-b8b0452308b1"
      },
      "execution_count": 195,
      "outputs": [
        {
          "output_type": "execute_result",
          "data": {
            "text/plain": [
              "Empty DataFrame\n",
              "Columns: [Region, Country, Year, Age, Gender, Literacy rate]\n",
              "Index: []"
            ],
            "text/html": [
              "\n",
              "  <div id=\"df-215c9c3a-87cd-4bb2-9523-28e82b5499a8\">\n",
              "    <div class=\"colab-df-container\">\n",
              "      <div>\n",
              "<style scoped>\n",
              "    .dataframe tbody tr th:only-of-type {\n",
              "        vertical-align: middle;\n",
              "    }\n",
              "\n",
              "    .dataframe tbody tr th {\n",
              "        vertical-align: top;\n",
              "    }\n",
              "\n",
              "    .dataframe thead th {\n",
              "        text-align: right;\n",
              "    }\n",
              "</style>\n",
              "<table border=\"1\" class=\"dataframe\">\n",
              "  <thead>\n",
              "    <tr style=\"text-align: right;\">\n",
              "      <th></th>\n",
              "      <th>Region</th>\n",
              "      <th>Country</th>\n",
              "      <th>Year</th>\n",
              "      <th>Age</th>\n",
              "      <th>Gender</th>\n",
              "      <th>Literacy rate</th>\n",
              "    </tr>\n",
              "  </thead>\n",
              "  <tbody>\n",
              "  </tbody>\n",
              "</table>\n",
              "</div>\n",
              "      <button class=\"colab-df-convert\" onclick=\"convertToInteractive('df-215c9c3a-87cd-4bb2-9523-28e82b5499a8')\"\n",
              "              title=\"Convert this dataframe to an interactive table.\"\n",
              "              style=\"display:none;\">\n",
              "        \n",
              "  <svg xmlns=\"http://www.w3.org/2000/svg\" height=\"24px\"viewBox=\"0 0 24 24\"\n",
              "       width=\"24px\">\n",
              "    <path d=\"M0 0h24v24H0V0z\" fill=\"none\"/>\n",
              "    <path d=\"M18.56 5.44l.94 2.06.94-2.06 2.06-.94-2.06-.94-.94-2.06-.94 2.06-2.06.94zm-11 1L8.5 8.5l.94-2.06 2.06-.94-2.06-.94L8.5 2.5l-.94 2.06-2.06.94zm10 10l.94 2.06.94-2.06 2.06-.94-2.06-.94-.94-2.06-.94 2.06-2.06.94z\"/><path d=\"M17.41 7.96l-1.37-1.37c-.4-.4-.92-.59-1.43-.59-.52 0-1.04.2-1.43.59L10.3 9.45l-7.72 7.72c-.78.78-.78 2.05 0 2.83L4 21.41c.39.39.9.59 1.41.59.51 0 1.02-.2 1.41-.59l7.78-7.78 2.81-2.81c.8-.78.8-2.07 0-2.86zM5.41 20L4 18.59l7.72-7.72 1.47 1.35L5.41 20z\"/>\n",
              "  </svg>\n",
              "      </button>\n",
              "      \n",
              "  <style>\n",
              "    .colab-df-container {\n",
              "      display:flex;\n",
              "      flex-wrap:wrap;\n",
              "      gap: 12px;\n",
              "    }\n",
              "\n",
              "    .colab-df-convert {\n",
              "      background-color: #E8F0FE;\n",
              "      border: none;\n",
              "      border-radius: 50%;\n",
              "      cursor: pointer;\n",
              "      display: none;\n",
              "      fill: #1967D2;\n",
              "      height: 32px;\n",
              "      padding: 0 0 0 0;\n",
              "      width: 32px;\n",
              "    }\n",
              "\n",
              "    .colab-df-convert:hover {\n",
              "      background-color: #E2EBFA;\n",
              "      box-shadow: 0px 1px 2px rgba(60, 64, 67, 0.3), 0px 1px 3px 1px rgba(60, 64, 67, 0.15);\n",
              "      fill: #174EA6;\n",
              "    }\n",
              "\n",
              "    [theme=dark] .colab-df-convert {\n",
              "      background-color: #3B4455;\n",
              "      fill: #D2E3FC;\n",
              "    }\n",
              "\n",
              "    [theme=dark] .colab-df-convert:hover {\n",
              "      background-color: #434B5C;\n",
              "      box-shadow: 0px 1px 3px 1px rgba(0, 0, 0, 0.15);\n",
              "      filter: drop-shadow(0px 1px 2px rgba(0, 0, 0, 0.3));\n",
              "      fill: #FFFFFF;\n",
              "    }\n",
              "  </style>\n",
              "\n",
              "      <script>\n",
              "        const buttonEl =\n",
              "          document.querySelector('#df-215c9c3a-87cd-4bb2-9523-28e82b5499a8 button.colab-df-convert');\n",
              "        buttonEl.style.display =\n",
              "          google.colab.kernel.accessAllowed ? 'block' : 'none';\n",
              "\n",
              "        async function convertToInteractive(key) {\n",
              "          const element = document.querySelector('#df-215c9c3a-87cd-4bb2-9523-28e82b5499a8');\n",
              "          const dataTable =\n",
              "            await google.colab.kernel.invokeFunction('convertToInteractive',\n",
              "                                                     [key], {});\n",
              "          if (!dataTable) return;\n",
              "\n",
              "          const docLinkHtml = 'Like what you see? Visit the ' +\n",
              "            '<a target=\"_blank\" href=https://colab.research.google.com/notebooks/data_table.ipynb>data table notebook</a>'\n",
              "            + ' to learn more about interactive tables.';\n",
              "          element.innerHTML = '';\n",
              "          dataTable['output_type'] = 'display_data';\n",
              "          await google.colab.output.renderOutput(dataTable, element);\n",
              "          const docLink = document.createElement('div');\n",
              "          docLink.innerHTML = docLinkHtml;\n",
              "          element.appendChild(docLink);\n",
              "        }\n",
              "      </script>\n",
              "    </div>\n",
              "  </div>\n",
              "  "
            ]
          },
          "metadata": {},
          "execution_count": 195
        }
      ]
    },
    {
      "cell_type": "code",
      "source": [
        "filtro_pais = df[df['Country'] == 'Uzbekistan']"
      ],
      "metadata": {
        "id": "vaiMpilvdvBu"
      },
      "execution_count": 196,
      "outputs": []
    },
    {
      "cell_type": "code",
      "source": [
        "print(filtro_pais) # La región de Uzbekistan es 'Central and Southern Asia'"
      ],
      "metadata": {
        "colab": {
          "base_uri": "https://localhost:8080/"
        },
        "id": "apD231MvfT40",
        "outputId": "5f5afd07-57cd-40a0-da7b-23ff1e603de5"
      },
      "execution_count": 197,
      "outputs": [
        {
          "output_type": "stream",
          "name": "stdout",
          "text": [
            "                        Region     Country  Year    Age  Gender  Literacy rate\n",
            "419  Central and Southern Asia  Uzbekistan  2013    15+  female       0.999959\n",
            "420  Central and Southern Asia  Uzbekistan  2013    15+    male       0.999938\n",
            "421  Central and Southern Asia  Uzbekistan  2013    15+   total       0.999949\n",
            "422  Central and Southern Asia  Uzbekistan  2013  15-24  female       1.000000\n",
            "423  Central and Southern Asia  Uzbekistan  2013  15-24    male       1.000000\n",
            "424  Central and Southern Asia  Uzbekistan  2013  15-24   total       1.000000\n",
            "425  Central and Southern Asia  Uzbekistan  2013  25-64  female       1.000000\n",
            "426  Central and Southern Asia  Uzbekistan  2013  25-64    male       1.000000\n",
            "427  Central and Southern Asia  Uzbekistan  2013  25-64   total       1.000000\n",
            "428  Central and Southern Asia  Uzbekistan  2013    65+  female       0.999347\n",
            "429  Central and Southern Asia  Uzbekistan  2013    65+    male       0.998772\n",
            "430  Central and Southern Asia  Uzbekistan  2013    65+   total       0.999095\n",
            "431  Central and Southern Asia  Uzbekistan  2014    15+  female       0.999760\n",
            "432  Central and Southern Asia  Uzbekistan  2014    15+    male       0.999852\n",
            "433  Central and Southern Asia  Uzbekistan  2014    15+   total       0.999805\n",
            "434  Central and Southern Asia  Uzbekistan  2014  15-24  female       1.000000\n",
            "435  Central and Southern Asia  Uzbekistan  2014  15-24    male       1.000000\n",
            "436  Central and Southern Asia  Uzbekistan  2014  15-24   total       1.000000\n",
            "437  Central and Southern Asia  Uzbekistan  2014  25-64  female       1.000000\n",
            "438  Central and Southern Asia  Uzbekistan  2014  25-64    male       1.000000\n",
            "439  Central and Southern Asia  Uzbekistan  2014  25-64   total       1.000000\n",
            "440  Central and Southern Asia  Uzbekistan  2014    65+  female       0.996215\n",
            "441  Central and Southern Asia  Uzbekistan  2014    65+    male       0.997067\n",
            "442  Central and Southern Asia  Uzbekistan  2014    65+   total       0.996589\n",
            "443  Central and Southern Asia  Uzbekistan  2015    15+  female       0.999758\n",
            "444  Central and Southern Asia  Uzbekistan  2015    15+    male       0.999920\n",
            "445  Central and Southern Asia  Uzbekistan  2015    15+   total       0.999838\n",
            "446  Central and Southern Asia  Uzbekistan  2015  15-24  female       1.000000\n",
            "447  Central and Southern Asia  Uzbekistan  2015  15-24    male       1.000000\n",
            "448  Central and Southern Asia  Uzbekistan  2015  15-24   total       1.000000\n",
            "449  Central and Southern Asia  Uzbekistan  2015  25-64  female       1.000000\n",
            "450  Central and Southern Asia  Uzbekistan  2015  25-64    male       1.000000\n",
            "451  Central and Southern Asia  Uzbekistan  2015  25-64   total       1.000000\n",
            "452  Central and Southern Asia  Uzbekistan  2015    65+  female       0.996261\n",
            "453  Central and Southern Asia  Uzbekistan  2015    65+    male       0.998460\n",
            "454  Central and Southern Asia  Uzbekistan  2015    65+   total       0.997227\n",
            "455  Central and Southern Asia  Uzbekistan  2016    15+  female       0.999784\n",
            "456  Central and Southern Asia  Uzbekistan  2016    15+    male       0.999949\n",
            "457  Central and Southern Asia  Uzbekistan  2016    15+   total       0.999866\n",
            "458  Central and Southern Asia  Uzbekistan  2016  15-24  female       1.000000\n",
            "459  Central and Southern Asia  Uzbekistan  2016  15-24    male       1.000000\n",
            "460  Central and Southern Asia  Uzbekistan  2016  15-24   total       1.000000\n",
            "461  Central and Southern Asia  Uzbekistan  2016  25-64  female       1.000000\n",
            "462  Central and Southern Asia  Uzbekistan  2016  25-64    male       1.000000\n",
            "463  Central and Southern Asia  Uzbekistan  2016  25-64   total       1.000000\n",
            "464  Central and Southern Asia  Uzbekistan  2016    65+  female       0.996697\n",
            "465  Central and Southern Asia  Uzbekistan  2016    65+    male       0.999018\n",
            "466  Central and Southern Asia  Uzbekistan  2016    65+   total       0.997719\n"
          ]
        }
      ]
    },
    {
      "cell_type": "code",
      "source": [
        "filtro_pais_2 = df[df['Country'] == 'Afghanistan']"
      ],
      "metadata": {
        "id": "-zZn9QbDi09Q"
      },
      "execution_count": 198,
      "outputs": []
    },
    {
      "cell_type": "code",
      "source": [
        "print(filtro_pais_2) # La región de Afghanistan también es 'Central and Southern Asia'"
      ],
      "metadata": {
        "colab": {
          "base_uri": "https://localhost:8080/"
        },
        "id": "YGx-T5_vjDVc",
        "outputId": "168121f9-ea36-427a-f0d2-d5e79486bec4"
      },
      "execution_count": 199,
      "outputs": [
        {
          "output_type": "stream",
          "name": "stdout",
          "text": [
            "                       Region      Country  Year    Age  Gender  Literacy rate\n",
            "0   Central and Southern Asia  Afghanistan  2011    15+  female       0.176121\n",
            "1   Central and Southern Asia  Afghanistan  2011    15+    male       0.454171\n",
            "2   Central and Southern Asia  Afghanistan  2011    15+   total       0.317411\n",
            "3   Central and Southern Asia  Afghanistan  2011  15-24  female       0.321132\n",
            "4   Central and Southern Asia  Afghanistan  2011  15-24    male       0.618791\n",
            "5   Central and Southern Asia  Afghanistan  2011  15-24   total       0.469900\n",
            "6   Central and Southern Asia  Afghanistan  2011  25-64  female       0.084128\n",
            "7   Central and Southern Asia  Afghanistan  2011  25-64    male       0.377948\n",
            "8   Central and Southern Asia  Afghanistan  2011  25-64   total       0.231536\n",
            "9   Central and Southern Asia  Afghanistan  2011    65+  female       0.196705\n",
            "10  Central and Southern Asia  Afghanistan  2011    65+   total       0.203219\n",
            "11  Central and Southern Asia  Afghanistan  2018    15+  female       0.298052\n",
            "12  Central and Southern Asia  Afghanistan  2018    15+    male       0.554755\n",
            "13  Central and Southern Asia  Afghanistan  2018    15+   total       0.430197\n",
            "14  Central and Southern Asia  Afghanistan  2018  15-24  female       0.562547\n",
            "15  Central and Southern Asia  Afghanistan  2018  15-24    male       0.740848\n",
            "16  Central and Southern Asia  Afghanistan  2018  15-24   total       0.654206\n",
            "17  Central and Southern Asia  Afghanistan  2018  25-64  female       0.143314\n",
            "18  Central and Southern Asia  Afghanistan  2018  25-64    male       0.453840\n",
            "19  Central and Southern Asia  Afghanistan  2018  25-64   total       0.304579\n",
            "20  Central and Southern Asia  Afghanistan  2018    65+  female       0.034743\n",
            "21  Central and Southern Asia  Afghanistan  2018    65+    male       0.247450\n",
            "22  Central and Southern Asia  Afghanistan  2018    65+   total       0.133318\n"
          ]
        }
      ]
    },
    {
      "cell_type": "code",
      "source": [
        "df['Region'].fillna('Central and Southern Asia', inplace = True) # Reemplazo en datos faltante con 'Central and Southern Asia'"
      ],
      "metadata": {
        "id": "ghmHQ4JajGra"
      },
      "execution_count": 200,
      "outputs": []
    },
    {
      "cell_type": "code",
      "source": [
        "df.isna().sum() # El Dataframe ya no tiene datos faltantes."
      ],
      "metadata": {
        "colab": {
          "base_uri": "https://localhost:8080/"
        },
        "id": "LTlhpA2GmF43",
        "outputId": "0a23dc37-020d-4372-e391-ce1d0e330962"
      },
      "execution_count": 201,
      "outputs": [
        {
          "output_type": "execute_result",
          "data": {
            "text/plain": [
              "Region           0\n",
              "Country          0\n",
              "Year             0\n",
              "Age              0\n",
              "Gender           0\n",
              "Literacy rate    0\n",
              "dtype: int64"
            ]
          },
          "metadata": {},
          "execution_count": 201
        }
      ]
    },
    {
      "cell_type": "code",
      "source": [
        "df.info() # Solo la columna 'Literacy rate' tiene inconsistencia. Deberían solo ser datos de tipo flotante. No contiene letras este dato. "
      ],
      "metadata": {
        "colab": {
          "base_uri": "https://localhost:8080/"
        },
        "id": "OF_w679wnA9V",
        "outputId": "cb715eba-0b4c-48c7-9056-aead4d5296db"
      },
      "execution_count": 178,
      "outputs": [
        {
          "output_type": "stream",
          "name": "stdout",
          "text": [
            "<class 'pandas.core.frame.DataFrame'>\n",
            "RangeIndex: 4955 entries, 0 to 4954\n",
            "Data columns (total 6 columns):\n",
            " #   Column         Non-Null Count  Dtype \n",
            "---  ------         --------------  ----- \n",
            " 0   Region         4955 non-null   object\n",
            " 1   Country        4955 non-null   object\n",
            " 2   Year           4955 non-null   int64 \n",
            " 3   Age            4955 non-null   object\n",
            " 4   Gender         4955 non-null   object\n",
            " 5   Literacy rate  4955 non-null   object\n",
            "dtypes: int64(1), object(5)\n",
            "memory usage: 232.4+ KB\n"
          ]
        }
      ]
    },
    {
      "cell_type": "code",
      "source": [
        "df['Literacy rate'] = df['Literacy rate'].astype(float) # Se indica que hay un dato que tiene un valor que no corresponde"
      ],
      "metadata": {
        "id": "7KqZEqJJolcI"
      },
      "execution_count": 181,
      "outputs": []
    },
    {
      "cell_type": "code",
      "source": [
        "df['Literacy rate'] = df['Literacy rate'].replace('45.384%', 0.45384) # Se reemplaza el valor que no corresponde por un N° flotante"
      ],
      "metadata": {
        "id": "ezCgSOcQsrl1"
      },
      "execution_count": 180,
      "outputs": []
    },
    {
      "cell_type": "code",
      "source": [
        "df.info() # Ya se aplica el cambio de tipo de dato en la columna 'Literacy rate'"
      ],
      "metadata": {
        "colab": {
          "base_uri": "https://localhost:8080/"
        },
        "id": "pyFfe-fuuBzJ",
        "outputId": "b02cafc7-f7ba-4a07-ee3b-2da2673e47b4"
      },
      "execution_count": 182,
      "outputs": [
        {
          "output_type": "stream",
          "name": "stdout",
          "text": [
            "<class 'pandas.core.frame.DataFrame'>\n",
            "RangeIndex: 4955 entries, 0 to 4954\n",
            "Data columns (total 6 columns):\n",
            " #   Column         Non-Null Count  Dtype  \n",
            "---  ------         --------------  -----  \n",
            " 0   Region         4955 non-null   object \n",
            " 1   Country        4955 non-null   object \n",
            " 2   Year           4955 non-null   int64  \n",
            " 3   Age            4955 non-null   object \n",
            " 4   Gender         4955 non-null   object \n",
            " 5   Literacy rate  4955 non-null   float64\n",
            "dtypes: float64(1), int64(1), object(4)\n",
            "memory usage: 232.4+ KB\n"
          ]
        }
      ]
    },
    {
      "cell_type": "code",
      "source": [
        "df['Gender'].value_counts() # Se observa también que existe un valor que no corresponde en la columna 'Gender'. Son muchas las filas con el valor, por lo que corresponde modificar el nombre 'total' por 'indeterminated'"
      ],
      "metadata": {
        "colab": {
          "base_uri": "https://localhost:8080/"
        },
        "id": "McIGTPKhuFxz",
        "outputId": "9f97fde5-418b-44aa-f3b3-91e71889c0fd"
      },
      "execution_count": 136,
      "outputs": [
        {
          "output_type": "execute_result",
          "data": {
            "text/plain": [
              "female    1652\n",
              "total     1652\n",
              "male      1651\n",
              "Name: Gender, dtype: int64"
            ]
          },
          "metadata": {},
          "execution_count": 136
        }
      ]
    },
    {
      "cell_type": "code",
      "source": [
        "df['Gender'] = df['Gender'].replace('total', 'indeterminated')"
      ],
      "metadata": {
        "id": "l9ZWzJoBuoAg"
      },
      "execution_count": 202,
      "outputs": []
    },
    {
      "cell_type": "code",
      "source": [
        "df['Gender'].value_counts() # Ya aplicado el cambio de tipo de genero"
      ],
      "metadata": {
        "colab": {
          "base_uri": "https://localhost:8080/"
        },
        "id": "UoUbEHBG1p7x",
        "outputId": "210af970-1d11-4c4c-9fb4-80627856ed32"
      },
      "execution_count": 203,
      "outputs": [
        {
          "output_type": "execute_result",
          "data": {
            "text/plain": [
              "female            1652\n",
              "indeterminated    1652\n",
              "male              1651\n",
              "Name: Gender, dtype: int64"
            ]
          },
          "metadata": {},
          "execution_count": 203
        }
      ]
    },
    {
      "cell_type": "code",
      "source": [
        "df['Year'].value_counts() # Sin inconsistencias"
      ],
      "metadata": {
        "colab": {
          "base_uri": "https://localhost:8080/"
        },
        "id": "gwMy_qbG2Dlq",
        "outputId": "abf4265d-5b3e-4069-dd3a-263cc0fce640"
      },
      "execution_count": 204,
      "outputs": [
        {
          "output_type": "execute_result",
          "data": {
            "text/plain": [
              "2018    861\n",
              "2011    683\n",
              "2014    660\n",
              "2010    600\n",
              "2012    516\n",
              "2015    474\n",
              "2013    396\n",
              "2016    396\n",
              "2017    369\n",
              "Name: Year, dtype: int64"
            ]
          },
          "metadata": {},
          "execution_count": 204
        }
      ]
    },
    {
      "cell_type": "code",
      "source": [
        "df['Age'].value_counts() # Sin inconsistencias"
      ],
      "metadata": {
        "colab": {
          "base_uri": "https://localhost:8080/"
        },
        "id": "zJw5e_fL3GMW",
        "outputId": "627b2d5b-cf7b-4df6-c94e-dd51e20b710e"
      },
      "execution_count": 205,
      "outputs": [
        {
          "output_type": "execute_result",
          "data": {
            "text/plain": [
              "15+      1260\n",
              "15-24    1239\n",
              "25-64    1239\n",
              "65+      1217\n",
              "Name: Age, dtype: int64"
            ]
          },
          "metadata": {},
          "execution_count": 205
        }
      ]
    },
    {
      "cell_type": "code",
      "source": [
        "df['Region'].value_counts() # Sin inconsistencias"
      ],
      "metadata": {
        "colab": {
          "base_uri": "https://localhost:8080/"
        },
        "id": "6zbpvpfW3MZ7",
        "outputId": "47dc4c37-1332-48c6-d2c8-d7e2d44c7b09"
      },
      "execution_count": 206,
      "outputs": [
        {
          "output_type": "execute_result",
          "data": {
            "text/plain": [
              "Latin America and the Caribbean     1410\n",
              "Sub-Saharan Africa                  1155\n",
              "Northern Africa and Western Asia     852\n",
              "Europe and Northern America          504\n",
              "Central and Southern Asia            467\n",
              "Eastern and South-Eastern Asia       423\n",
              "Oceania                              144\n",
              "Name: Region, dtype: int64"
            ]
          },
          "metadata": {},
          "execution_count": 206
        }
      ]
    },
    {
      "cell_type": "code",
      "source": [
        "df['Country'].value_counts() # No parecen haber inconsistencias"
      ],
      "metadata": {
        "colab": {
          "base_uri": "https://localhost:8080/"
        },
        "id": "z3IZhc-m3TEM",
        "outputId": "22bff8ed-31b2-433d-c0d1-3391e60006d3"
      },
      "execution_count": 210,
      "outputs": [
        {
          "output_type": "execute_result",
          "data": {
            "text/plain": [
              "Mexico                 108\n",
              "Uruguay                108\n",
              "Brazil                 108\n",
              "Palestine               96\n",
              "Turkey                  96\n",
              "                      ... \n",
              "Trinidad and Tobago     12\n",
              "Greece                  12\n",
              "Estonia                 12\n",
              "Hungary                 12\n",
              "Antigua and Barbuda      6\n",
              "Name: Country, Length: 155, dtype: int64"
            ]
          },
          "metadata": {},
          "execution_count": 210
        }
      ]
    },
    {
      "cell_type": "code",
      "source": [],
      "metadata": {
        "id": "T8P9jjx43aL0"
      },
      "execution_count": null,
      "outputs": []
    }
  ]
}